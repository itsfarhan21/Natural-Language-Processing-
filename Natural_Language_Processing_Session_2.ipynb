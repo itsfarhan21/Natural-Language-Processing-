{
  "nbformat": 4,
  "nbformat_minor": 0,
  "metadata": {
    "colab": {
      "provenance": [],
      "authorship_tag": "ABX9TyO9FcqYJCnBHE0ldOgfJdex",
      "include_colab_link": true
    },
    "kernelspec": {
      "name": "python3",
      "display_name": "Python 3"
    },
    "language_info": {
      "name": "python"
    }
  },
  "cells": [
    {
      "cell_type": "markdown",
      "metadata": {
        "id": "view-in-github",
        "colab_type": "text"
      },
      "source": [
        "<a href=\"https://colab.research.google.com/github/itsfarhan21/Natural-Language-Processing-/blob/main/Natural_Language_Processing_Session_2.ipynb\" target=\"_parent\"><img src=\"https://colab.research.google.com/assets/colab-badge.svg\" alt=\"Open In Colab\"/></a>"
      ]
    },
    {
      "cell_type": "code",
      "execution_count": 1,
      "metadata": {
        "id": "ZWN5Vqr13zGA"
      },
      "outputs": [],
      "source": [
        "from nltk import ngrams\n",
        "from nltk.util import ngrams\n",
        "import nltk"
      ]
    },
    {
      "cell_type": "code",
      "source": [
        "sentence = \"Presiden Jokowi menginginkan pembangunan Kereta Cepat Jakarta-Bandung (KCJB) selesai dan siap beroperasi pada Juni 2023. Hal itu disampaikan ketika Jokowi mengunjungi Stasiun KCJB di Stasiun Tegalluar, Desa Tegalluar, Kecamatan Bojongsoang, Kabupaten Bandung, Jawa Barat. Saat ini, kata dia, secara keseluruhan progres pembangunan KCJB baru mencapai 88,8 persen. Belum final dan peluncuran nanti untuk operasional insya Allah kurang lebih nanti di bulan Juni 2023, katanya dijumpai, Rabu (13/10/2022). Baca juga: Jokowi Harap Kereta Cepat Dorong Pertumbuhan Ekonomi Jakarta hingga Kabupaten Bandung Jokowi menjelaskan progres pembangunan KCJB sempat terhambat oleh pandemi Covid-19, meskipun tidak terlalu signifikan. Namun, secara teknis, pembangunan lajur KCJB sempat mengalami hambatan ketika akan membangun terowongan di tunnel 2 dan tunnel 11. Memang ada masalah karena memang tanahnya yang sangat sulit dikendalikan tetapi Alhamdulillah sekarang sudah selesai, ungkapnya. Kereta cepat pertama di Asean Jokowi mengungkapkan, pembangunan KCJB merupakan yang pertama di ASEAN. Diharapkan, kereta cepat ini bisa membangun konektivitas atar negara dan wilayah yang ada di Indonesia. Baca juga: 11 Rumah Warga di Purwakarta Ambruk Terdampak Proyek Kereta Cepat Jakarta-Bandung Nantinya, kata dia, KCJB bisa disambungkan dengan pelabuhan, bandara, bahkan kereta cepat lain yang rencananya akan dibangun di wilayah lain. Bisa dihubungkan dengan Pelabuhan dan Bandaran, mungkin juga dengan kereta cepat seperti ini dan itu sudah menjadi gagasan besar di ASEAN agar konektivitas antar negara ASEAN ini bisa terhubung, pungkasnya.\"\n",
        "n = 5\n",
        "fourgrams = ngrams(sentence.split(), n)\n",
        "for grams in fourgrams:\n",
        "  print(grams)"
      ],
      "metadata": {
        "colab": {
          "base_uri": "https://localhost:8080/"
        },
        "id": "XMlQqxnm4BI8",
        "outputId": "c09578d8-c30f-4a8b-823e-f9896f502381"
      },
      "execution_count": 14,
      "outputs": [
        {
          "output_type": "stream",
          "name": "stdout",
          "text": [
            "('Presiden', 'Jokowi', 'menginginkan', 'pembangunan', 'Kereta')\n",
            "('Jokowi', 'menginginkan', 'pembangunan', 'Kereta', 'Cepat')\n",
            "('menginginkan', 'pembangunan', 'Kereta', 'Cepat', 'Jakarta-Bandung')\n",
            "('pembangunan', 'Kereta', 'Cepat', 'Jakarta-Bandung', '(KCJB)')\n",
            "('Kereta', 'Cepat', 'Jakarta-Bandung', '(KCJB)', 'selesai')\n",
            "('Cepat', 'Jakarta-Bandung', '(KCJB)', 'selesai', 'dan')\n",
            "('Jakarta-Bandung', '(KCJB)', 'selesai', 'dan', 'siap')\n",
            "('(KCJB)', 'selesai', 'dan', 'siap', 'beroperasi')\n",
            "('selesai', 'dan', 'siap', 'beroperasi', 'pada')\n",
            "('dan', 'siap', 'beroperasi', 'pada', 'Juni')\n",
            "('siap', 'beroperasi', 'pada', 'Juni', '2023.')\n",
            "('beroperasi', 'pada', 'Juni', '2023.', 'Hal')\n",
            "('pada', 'Juni', '2023.', 'Hal', 'itu')\n",
            "('Juni', '2023.', 'Hal', 'itu', 'disampaikan')\n",
            "('2023.', 'Hal', 'itu', 'disampaikan', 'ketika')\n",
            "('Hal', 'itu', 'disampaikan', 'ketika', 'Jokowi')\n",
            "('itu', 'disampaikan', 'ketika', 'Jokowi', 'mengunjungi')\n",
            "('disampaikan', 'ketika', 'Jokowi', 'mengunjungi', 'Stasiun')\n",
            "('ketika', 'Jokowi', 'mengunjungi', 'Stasiun', 'KCJB')\n",
            "('Jokowi', 'mengunjungi', 'Stasiun', 'KCJB', 'di')\n",
            "('mengunjungi', 'Stasiun', 'KCJB', 'di', 'Stasiun')\n",
            "('Stasiun', 'KCJB', 'di', 'Stasiun', 'Tegalluar,')\n",
            "('KCJB', 'di', 'Stasiun', 'Tegalluar,', 'Desa')\n",
            "('di', 'Stasiun', 'Tegalluar,', 'Desa', 'Tegalluar,')\n",
            "('Stasiun', 'Tegalluar,', 'Desa', 'Tegalluar,', 'Kecamatan')\n",
            "('Tegalluar,', 'Desa', 'Tegalluar,', 'Kecamatan', 'Bojongsoang,')\n",
            "('Desa', 'Tegalluar,', 'Kecamatan', 'Bojongsoang,', 'Kabupaten')\n",
            "('Tegalluar,', 'Kecamatan', 'Bojongsoang,', 'Kabupaten', 'Bandung,')\n",
            "('Kecamatan', 'Bojongsoang,', 'Kabupaten', 'Bandung,', 'Jawa')\n",
            "('Bojongsoang,', 'Kabupaten', 'Bandung,', 'Jawa', 'Barat.')\n",
            "('Kabupaten', 'Bandung,', 'Jawa', 'Barat.', 'Saat')\n",
            "('Bandung,', 'Jawa', 'Barat.', 'Saat', 'ini,')\n",
            "('Jawa', 'Barat.', 'Saat', 'ini,', 'kata')\n",
            "('Barat.', 'Saat', 'ini,', 'kata', 'dia,')\n",
            "('Saat', 'ini,', 'kata', 'dia,', 'secara')\n",
            "('ini,', 'kata', 'dia,', 'secara', 'keseluruhan')\n",
            "('kata', 'dia,', 'secara', 'keseluruhan', 'progres')\n",
            "('dia,', 'secara', 'keseluruhan', 'progres', 'pembangunan')\n",
            "('secara', 'keseluruhan', 'progres', 'pembangunan', 'KCJB')\n",
            "('keseluruhan', 'progres', 'pembangunan', 'KCJB', 'baru')\n",
            "('progres', 'pembangunan', 'KCJB', 'baru', 'mencapai')\n",
            "('pembangunan', 'KCJB', 'baru', 'mencapai', '88,8')\n",
            "('KCJB', 'baru', 'mencapai', '88,8', 'persen.')\n",
            "('baru', 'mencapai', '88,8', 'persen.', 'Belum')\n",
            "('mencapai', '88,8', 'persen.', 'Belum', 'final')\n",
            "('88,8', 'persen.', 'Belum', 'final', 'dan')\n",
            "('persen.', 'Belum', 'final', 'dan', 'peluncuran')\n",
            "('Belum', 'final', 'dan', 'peluncuran', 'nanti')\n",
            "('final', 'dan', 'peluncuran', 'nanti', 'untuk')\n",
            "('dan', 'peluncuran', 'nanti', 'untuk', 'operasional')\n",
            "('peluncuran', 'nanti', 'untuk', 'operasional', 'insya')\n",
            "('nanti', 'untuk', 'operasional', 'insya', 'Allah')\n",
            "('untuk', 'operasional', 'insya', 'Allah', 'kurang')\n",
            "('operasional', 'insya', 'Allah', 'kurang', 'lebih')\n",
            "('insya', 'Allah', 'kurang', 'lebih', 'nanti')\n",
            "('Allah', 'kurang', 'lebih', 'nanti', 'di')\n",
            "('kurang', 'lebih', 'nanti', 'di', 'bulan')\n",
            "('lebih', 'nanti', 'di', 'bulan', 'Juni')\n",
            "('nanti', 'di', 'bulan', 'Juni', '2023,')\n",
            "('di', 'bulan', 'Juni', '2023,', 'katanya')\n",
            "('bulan', 'Juni', '2023,', 'katanya', 'dijumpai,')\n",
            "('Juni', '2023,', 'katanya', 'dijumpai,', 'Rabu')\n",
            "('2023,', 'katanya', 'dijumpai,', 'Rabu', '(13/10/2022).')\n",
            "('katanya', 'dijumpai,', 'Rabu', '(13/10/2022).', 'Baca')\n",
            "('dijumpai,', 'Rabu', '(13/10/2022).', 'Baca', 'juga:')\n",
            "('Rabu', '(13/10/2022).', 'Baca', 'juga:', 'Jokowi')\n",
            "('(13/10/2022).', 'Baca', 'juga:', 'Jokowi', 'Harap')\n",
            "('Baca', 'juga:', 'Jokowi', 'Harap', 'Kereta')\n",
            "('juga:', 'Jokowi', 'Harap', 'Kereta', 'Cepat')\n",
            "('Jokowi', 'Harap', 'Kereta', 'Cepat', 'Dorong')\n",
            "('Harap', 'Kereta', 'Cepat', 'Dorong', 'Pertumbuhan')\n",
            "('Kereta', 'Cepat', 'Dorong', 'Pertumbuhan', 'Ekonomi')\n",
            "('Cepat', 'Dorong', 'Pertumbuhan', 'Ekonomi', 'Jakarta')\n",
            "('Dorong', 'Pertumbuhan', 'Ekonomi', 'Jakarta', 'hingga')\n",
            "('Pertumbuhan', 'Ekonomi', 'Jakarta', 'hingga', 'Kabupaten')\n",
            "('Ekonomi', 'Jakarta', 'hingga', 'Kabupaten', 'Bandung')\n",
            "('Jakarta', 'hingga', 'Kabupaten', 'Bandung', 'Jokowi')\n",
            "('hingga', 'Kabupaten', 'Bandung', 'Jokowi', 'menjelaskan')\n",
            "('Kabupaten', 'Bandung', 'Jokowi', 'menjelaskan', 'progres')\n",
            "('Bandung', 'Jokowi', 'menjelaskan', 'progres', 'pembangunan')\n",
            "('Jokowi', 'menjelaskan', 'progres', 'pembangunan', 'KCJB')\n",
            "('menjelaskan', 'progres', 'pembangunan', 'KCJB', 'sempat')\n",
            "('progres', 'pembangunan', 'KCJB', 'sempat', 'terhambat')\n",
            "('pembangunan', 'KCJB', 'sempat', 'terhambat', 'oleh')\n",
            "('KCJB', 'sempat', 'terhambat', 'oleh', 'pandemi')\n",
            "('sempat', 'terhambat', 'oleh', 'pandemi', 'Covid-19,')\n",
            "('terhambat', 'oleh', 'pandemi', 'Covid-19,', 'meskipun')\n",
            "('oleh', 'pandemi', 'Covid-19,', 'meskipun', 'tidak')\n",
            "('pandemi', 'Covid-19,', 'meskipun', 'tidak', 'terlalu')\n",
            "('Covid-19,', 'meskipun', 'tidak', 'terlalu', 'signifikan.')\n",
            "('meskipun', 'tidak', 'terlalu', 'signifikan.', 'Namun,')\n",
            "('tidak', 'terlalu', 'signifikan.', 'Namun,', 'secara')\n",
            "('terlalu', 'signifikan.', 'Namun,', 'secara', 'teknis,')\n",
            "('signifikan.', 'Namun,', 'secara', 'teknis,', 'pembangunan')\n",
            "('Namun,', 'secara', 'teknis,', 'pembangunan', 'lajur')\n",
            "('secara', 'teknis,', 'pembangunan', 'lajur', 'KCJB')\n",
            "('teknis,', 'pembangunan', 'lajur', 'KCJB', 'sempat')\n",
            "('pembangunan', 'lajur', 'KCJB', 'sempat', 'mengalami')\n",
            "('lajur', 'KCJB', 'sempat', 'mengalami', 'hambatan')\n",
            "('KCJB', 'sempat', 'mengalami', 'hambatan', 'ketika')\n",
            "('sempat', 'mengalami', 'hambatan', 'ketika', 'akan')\n",
            "('mengalami', 'hambatan', 'ketika', 'akan', 'membangun')\n",
            "('hambatan', 'ketika', 'akan', 'membangun', 'terowongan')\n",
            "('ketika', 'akan', 'membangun', 'terowongan', 'di')\n",
            "('akan', 'membangun', 'terowongan', 'di', 'tunnel')\n",
            "('membangun', 'terowongan', 'di', 'tunnel', '2')\n",
            "('terowongan', 'di', 'tunnel', '2', 'dan')\n",
            "('di', 'tunnel', '2', 'dan', 'tunnel')\n",
            "('tunnel', '2', 'dan', 'tunnel', '11.')\n",
            "('2', 'dan', 'tunnel', '11.', 'Memang')\n",
            "('dan', 'tunnel', '11.', 'Memang', 'ada')\n",
            "('tunnel', '11.', 'Memang', 'ada', 'masalah')\n",
            "('11.', 'Memang', 'ada', 'masalah', 'karena')\n",
            "('Memang', 'ada', 'masalah', 'karena', 'memang')\n",
            "('ada', 'masalah', 'karena', 'memang', 'tanahnya')\n",
            "('masalah', 'karena', 'memang', 'tanahnya', 'yang')\n",
            "('karena', 'memang', 'tanahnya', 'yang', 'sangat')\n",
            "('memang', 'tanahnya', 'yang', 'sangat', 'sulit')\n",
            "('tanahnya', 'yang', 'sangat', 'sulit', 'dikendalikan')\n",
            "('yang', 'sangat', 'sulit', 'dikendalikan', 'tetapi')\n",
            "('sangat', 'sulit', 'dikendalikan', 'tetapi', 'Alhamdulillah')\n",
            "('sulit', 'dikendalikan', 'tetapi', 'Alhamdulillah', 'sekarang')\n",
            "('dikendalikan', 'tetapi', 'Alhamdulillah', 'sekarang', 'sudah')\n",
            "('tetapi', 'Alhamdulillah', 'sekarang', 'sudah', 'selesai,')\n",
            "('Alhamdulillah', 'sekarang', 'sudah', 'selesai,', 'ungkapnya.')\n",
            "('sekarang', 'sudah', 'selesai,', 'ungkapnya.', 'Kereta')\n",
            "('sudah', 'selesai,', 'ungkapnya.', 'Kereta', 'cepat')\n",
            "('selesai,', 'ungkapnya.', 'Kereta', 'cepat', 'pertama')\n",
            "('ungkapnya.', 'Kereta', 'cepat', 'pertama', 'di')\n",
            "('Kereta', 'cepat', 'pertama', 'di', 'Asean')\n",
            "('cepat', 'pertama', 'di', 'Asean', 'Jokowi')\n",
            "('pertama', 'di', 'Asean', 'Jokowi', 'mengungkapkan,')\n",
            "('di', 'Asean', 'Jokowi', 'mengungkapkan,', 'pembangunan')\n",
            "('Asean', 'Jokowi', 'mengungkapkan,', 'pembangunan', 'KCJB')\n",
            "('Jokowi', 'mengungkapkan,', 'pembangunan', 'KCJB', 'merupakan')\n",
            "('mengungkapkan,', 'pembangunan', 'KCJB', 'merupakan', 'yang')\n",
            "('pembangunan', 'KCJB', 'merupakan', 'yang', 'pertama')\n",
            "('KCJB', 'merupakan', 'yang', 'pertama', 'di')\n",
            "('merupakan', 'yang', 'pertama', 'di', 'ASEAN.')\n",
            "('yang', 'pertama', 'di', 'ASEAN.', 'Diharapkan,')\n",
            "('pertama', 'di', 'ASEAN.', 'Diharapkan,', 'kereta')\n",
            "('di', 'ASEAN.', 'Diharapkan,', 'kereta', 'cepat')\n",
            "('ASEAN.', 'Diharapkan,', 'kereta', 'cepat', 'ini')\n",
            "('Diharapkan,', 'kereta', 'cepat', 'ini', 'bisa')\n",
            "('kereta', 'cepat', 'ini', 'bisa', 'membangun')\n",
            "('cepat', 'ini', 'bisa', 'membangun', 'konektivitas')\n",
            "('ini', 'bisa', 'membangun', 'konektivitas', 'atar')\n",
            "('bisa', 'membangun', 'konektivitas', 'atar', 'negara')\n",
            "('membangun', 'konektivitas', 'atar', 'negara', 'dan')\n",
            "('konektivitas', 'atar', 'negara', 'dan', 'wilayah')\n",
            "('atar', 'negara', 'dan', 'wilayah', 'yang')\n",
            "('negara', 'dan', 'wilayah', 'yang', 'ada')\n",
            "('dan', 'wilayah', 'yang', 'ada', 'di')\n",
            "('wilayah', 'yang', 'ada', 'di', 'Indonesia.')\n",
            "('yang', 'ada', 'di', 'Indonesia.', 'Baca')\n",
            "('ada', 'di', 'Indonesia.', 'Baca', 'juga:')\n",
            "('di', 'Indonesia.', 'Baca', 'juga:', '11')\n",
            "('Indonesia.', 'Baca', 'juga:', '11', 'Rumah')\n",
            "('Baca', 'juga:', '11', 'Rumah', 'Warga')\n",
            "('juga:', '11', 'Rumah', 'Warga', 'di')\n",
            "('11', 'Rumah', 'Warga', 'di', 'Purwakarta')\n",
            "('Rumah', 'Warga', 'di', 'Purwakarta', 'Ambruk')\n",
            "('Warga', 'di', 'Purwakarta', 'Ambruk', 'Terdampak')\n",
            "('di', 'Purwakarta', 'Ambruk', 'Terdampak', 'Proyek')\n",
            "('Purwakarta', 'Ambruk', 'Terdampak', 'Proyek', 'Kereta')\n",
            "('Ambruk', 'Terdampak', 'Proyek', 'Kereta', 'Cepat')\n",
            "('Terdampak', 'Proyek', 'Kereta', 'Cepat', 'Jakarta-Bandung')\n",
            "('Proyek', 'Kereta', 'Cepat', 'Jakarta-Bandung', 'Nantinya,')\n",
            "('Kereta', 'Cepat', 'Jakarta-Bandung', 'Nantinya,', 'kata')\n",
            "('Cepat', 'Jakarta-Bandung', 'Nantinya,', 'kata', 'dia,')\n",
            "('Jakarta-Bandung', 'Nantinya,', 'kata', 'dia,', 'KCJB')\n",
            "('Nantinya,', 'kata', 'dia,', 'KCJB', 'bisa')\n",
            "('kata', 'dia,', 'KCJB', 'bisa', 'disambungkan')\n",
            "('dia,', 'KCJB', 'bisa', 'disambungkan', 'dengan')\n",
            "('KCJB', 'bisa', 'disambungkan', 'dengan', 'pelabuhan,')\n",
            "('bisa', 'disambungkan', 'dengan', 'pelabuhan,', 'bandara,')\n",
            "('disambungkan', 'dengan', 'pelabuhan,', 'bandara,', 'bahkan')\n",
            "('dengan', 'pelabuhan,', 'bandara,', 'bahkan', 'kereta')\n",
            "('pelabuhan,', 'bandara,', 'bahkan', 'kereta', 'cepat')\n",
            "('bandara,', 'bahkan', 'kereta', 'cepat', 'lain')\n",
            "('bahkan', 'kereta', 'cepat', 'lain', 'yang')\n",
            "('kereta', 'cepat', 'lain', 'yang', 'rencananya')\n",
            "('cepat', 'lain', 'yang', 'rencananya', 'akan')\n",
            "('lain', 'yang', 'rencananya', 'akan', 'dibangun')\n",
            "('yang', 'rencananya', 'akan', 'dibangun', 'di')\n",
            "('rencananya', 'akan', 'dibangun', 'di', 'wilayah')\n",
            "('akan', 'dibangun', 'di', 'wilayah', 'lain.')\n",
            "('dibangun', 'di', 'wilayah', 'lain.', 'Bisa')\n",
            "('di', 'wilayah', 'lain.', 'Bisa', 'dihubungkan')\n",
            "('wilayah', 'lain.', 'Bisa', 'dihubungkan', 'dengan')\n",
            "('lain.', 'Bisa', 'dihubungkan', 'dengan', 'Pelabuhan')\n",
            "('Bisa', 'dihubungkan', 'dengan', 'Pelabuhan', 'dan')\n",
            "('dihubungkan', 'dengan', 'Pelabuhan', 'dan', 'Bandaran,')\n",
            "('dengan', 'Pelabuhan', 'dan', 'Bandaran,', 'mungkin')\n",
            "('Pelabuhan', 'dan', 'Bandaran,', 'mungkin', 'juga')\n",
            "('dan', 'Bandaran,', 'mungkin', 'juga', 'dengan')\n",
            "('Bandaran,', 'mungkin', 'juga', 'dengan', 'kereta')\n",
            "('mungkin', 'juga', 'dengan', 'kereta', 'cepat')\n",
            "('juga', 'dengan', 'kereta', 'cepat', 'seperti')\n",
            "('dengan', 'kereta', 'cepat', 'seperti', 'ini')\n",
            "('kereta', 'cepat', 'seperti', 'ini', 'dan')\n",
            "('cepat', 'seperti', 'ini', 'dan', 'itu')\n",
            "('seperti', 'ini', 'dan', 'itu', 'sudah')\n",
            "('ini', 'dan', 'itu', 'sudah', 'menjadi')\n",
            "('dan', 'itu', 'sudah', 'menjadi', 'gagasan')\n",
            "('itu', 'sudah', 'menjadi', 'gagasan', 'besar')\n",
            "('sudah', 'menjadi', 'gagasan', 'besar', 'di')\n",
            "('menjadi', 'gagasan', 'besar', 'di', 'ASEAN')\n",
            "('gagasan', 'besar', 'di', 'ASEAN', 'agar')\n",
            "('besar', 'di', 'ASEAN', 'agar', 'konektivitas')\n",
            "('di', 'ASEAN', 'agar', 'konektivitas', 'antar')\n",
            "('ASEAN', 'agar', 'konektivitas', 'antar', 'negara')\n",
            "('agar', 'konektivitas', 'antar', 'negara', 'ASEAN')\n",
            "('konektivitas', 'antar', 'negara', 'ASEAN', 'ini')\n",
            "('antar', 'negara', 'ASEAN', 'ini', 'bisa')\n",
            "('negara', 'ASEAN', 'ini', 'bisa', 'terhubung,')\n",
            "('ASEAN', 'ini', 'bisa', 'terhubung,', 'pungkasnya.')\n"
          ]
        }
      ]
    },
    {
      "cell_type": "code",
      "source": [
        "from sklearn.feature_extraction.text import CountVectorizer\n",
        "cv = CountVectorizer(ngram_range=(1, 1))\n",
        "\n",
        "sentences = [\"Presiden Jokowi menginginkan pembangunan Kereta Cepat Jakarta-Bandung (KCJB) selesai dan siap beroperasi pada Juni 2023. Hal itu disampaikan ketika Jokowi mengunjungi Stasiun KCJB di Stasiun Tegalluar, Desa Tegalluar, Kecamatan Bojongsoang, Kabupaten Bandung, Jawa Barat. Saat ini, kata dia, secara keseluruhan progres pembangunan KCJB baru mencapai 88,8 persen. Belum final dan peluncuran nanti untuk operasional insya Allah kurang lebih nanti di bulan Juni 2023, katanya dijumpai, Rabu (13/10/2022). Baca juga: Jokowi Harap Kereta Cepat Dorong Pertumbuhan Ekonomi Jakarta hingga Kabupaten Bandung Jokowi menjelaskan progres pembangunan KCJB sempat terhambat oleh pandemi Covid-19, meskipun tidak terlalu signifikan. Namun, secara teknis, pembangunan lajur KCJB sempat mengalami hambatan ketika akan membangun terowongan di tunnel 2 dan tunnel 11. Memang ada masalah karena memang tanahnya yang sangat sulit dikendalikan tetapi Alhamdulillah sekarang sudah selesai, ungkapnya. Kereta cepat pertama di Asean Jokowi mengungkapkan, pembangunan KCJB merupakan yang pertama di ASEAN. Diharapkan, kereta cepat ini bisa membangun konektivitas atar negara dan wilayah yang ada di Indonesia. Baca juga: 11 Rumah Warga di Purwakarta Ambruk Terdampak Proyek Kereta Cepat Jakarta-Bandung Nantinya, kata dia, KCJB bisa disambungkan dengan pelabuhan, bandara, bahkan kereta cepat lain yang rencananya akan dibangun di wilayah lain. Bisa dihubungkan dengan Pelabuhan dan Bandaran, mungkin juga dengan kereta cepat seperti ini dan itu sudah menjadi gagasan besar di ASEAN agar konektivitas antar negara ASEAN ini bisa terhubung, pungkasnya.\"]\n",
        "\n",
        "X = cv.fit(sentences)\n",
        "print(X.vocabulary_)\n",
        "print(cv.get_feature_names())\n"
      ],
      "metadata": {
        "colab": {
          "base_uri": "https://localhost:8080/"
        },
        "id": "j-mgipHh5pOx",
        "outputId": "9d5b039a-e864-4092-cdff-b8b598e468f3"
      },
      "execution_count": 22,
      "outputs": [
        {
          "output_type": "stream",
          "name": "stdout",
          "text": [
            "{'presiden': 101, 'jokowi': 57, 'menginginkan': 79, 'pembangunan': 97, 'kereta': 66, 'cepat': 29, 'jakarta': 55, 'bandung': 20, 'kcjb': 64, 'selesai': 113, 'dan': 31, 'siap': 116, 'beroperasi': 24, 'pada': 93, 'juni': 59, '2023': 5, 'hal': 47, 'itu': 54, 'disampaikan': 42, 'ketika': 68, 'mengunjungi': 81, 'stasiun': 118, 'di': 34, 'tegalluar': 122, 'desa': 33, 'kecamatan': 65, 'bojongsoang': 27, 'kabupaten': 60, 'jawa': 56, 'barat': 21, 'saat': 109, 'ini': 52, 'kata': 62, 'dia': 35, 'secara': 111, 'keseluruhan': 67, 'progres': 102, 'baru': 22, 'mencapai': 77, '88': 6, 'persen': 98, 'belum': 23, 'final': 45, 'peluncuran': 96, 'nanti': 88, 'untuk': 133, 'operasional': 92, 'insya': 53, 'allah': 11, 'kurang': 70, 'lebih': 73, 'bulan': 28, 'katanya': 63, 'dijumpai': 39, 'rabu': 106, '13': 2, '10': 0, '2022': 4, 'baca': 16, 'juga': 58, 'harap': 49, 'dorong': 43, 'pertumbuhan': 100, 'ekonomi': 44, 'hingga': 50, 'menjelaskan': 83, 'sempat': 114, 'terhambat': 125, 'oleh': 91, 'pandemi': 94, 'covid': 30, '19': 3, 'meskipun': 85, 'tidak': 130, 'terlalu': 127, 'signifikan': 117, 'namun': 87, 'teknis': 123, 'lajur': 72, 'mengalami': 78, 'hambatan': 48, 'akan': 9, 'membangun': 76, 'terowongan': 128, 'tunnel': 131, '11': 1, 'memang': 75, 'ada': 7, 'masalah': 74, 'karena': 61, 'tanahnya': 121, 'yang': 136, 'sangat': 110, 'sulit': 120, 'dikendalikan': 40, 'tetapi': 129, 'alhamdulillah': 10, 'sekarang': 112, 'sudah': 119, 'ungkapnya': 132, 'pertama': 99, 'asean': 14, 'mengungkapkan': 80, 'merupakan': 84, 'diharapkan': 37, 'bisa': 26, 'konektivitas': 69, 'atar': 15, 'negara': 90, 'wilayah': 135, 'indonesia': 51, 'rumah': 108, 'warga': 134, 'purwakarta': 105, 'ambruk': 12, 'terdampak': 124, 'proyek': 103, 'nantinya': 89, 'disambungkan': 41, 'dengan': 32, 'pelabuhan': 95, 'bandara': 18, 'bahkan': 17, 'lain': 71, 'rencananya': 107, 'dibangun': 36, 'dihubungkan': 38, 'bandaran': 19, 'mungkin': 86, 'seperti': 115, 'menjadi': 82, 'gagasan': 46, 'besar': 25, 'agar': 8, 'antar': 13, 'terhubung': 126, 'pungkasnya': 104}\n",
            "['10', '11', '13', '19', '2022', '2023', '88', 'ada', 'agar', 'akan', 'alhamdulillah', 'allah', 'ambruk', 'antar', 'asean', 'atar', 'baca', 'bahkan', 'bandara', 'bandaran', 'bandung', 'barat', 'baru', 'belum', 'beroperasi', 'besar', 'bisa', 'bojongsoang', 'bulan', 'cepat', 'covid', 'dan', 'dengan', 'desa', 'di', 'dia', 'dibangun', 'diharapkan', 'dihubungkan', 'dijumpai', 'dikendalikan', 'disambungkan', 'disampaikan', 'dorong', 'ekonomi', 'final', 'gagasan', 'hal', 'hambatan', 'harap', 'hingga', 'indonesia', 'ini', 'insya', 'itu', 'jakarta', 'jawa', 'jokowi', 'juga', 'juni', 'kabupaten', 'karena', 'kata', 'katanya', 'kcjb', 'kecamatan', 'kereta', 'keseluruhan', 'ketika', 'konektivitas', 'kurang', 'lain', 'lajur', 'lebih', 'masalah', 'memang', 'membangun', 'mencapai', 'mengalami', 'menginginkan', 'mengungkapkan', 'mengunjungi', 'menjadi', 'menjelaskan', 'merupakan', 'meskipun', 'mungkin', 'namun', 'nanti', 'nantinya', 'negara', 'oleh', 'operasional', 'pada', 'pandemi', 'pelabuhan', 'peluncuran', 'pembangunan', 'persen', 'pertama', 'pertumbuhan', 'presiden', 'progres', 'proyek', 'pungkasnya', 'purwakarta', 'rabu', 'rencananya', 'rumah', 'saat', 'sangat', 'secara', 'sekarang', 'selesai', 'sempat', 'seperti', 'siap', 'signifikan', 'stasiun', 'sudah', 'sulit', 'tanahnya', 'tegalluar', 'teknis', 'terdampak', 'terhambat', 'terhubung', 'terlalu', 'terowongan', 'tetapi', 'tidak', 'tunnel', 'ungkapnya', 'untuk', 'warga', 'wilayah', 'yang']\n"
          ]
        }
      ]
    },
    {
      "cell_type": "code",
      "source": [
        "X = cv.fit_transform(sentences)\n",
        "print(X.shape)\n",
        "print(X)\n",
        "print(X.toarray())"
      ],
      "metadata": {
        "colab": {
          "base_uri": "https://localhost:8080/"
        },
        "id": "QcusXNEN5pRf",
        "outputId": "6964fe43-03a4-4964-f285-9275f46919cf"
      },
      "execution_count": 11,
      "outputs": [
        {
          "output_type": "stream",
          "name": "stdout",
          "text": [
            "(1, 881)\n",
            "  (0, 698)\t1\n",
            "  (0, 393)\t1\n",
            "  (0, 579)\t1\n",
            "  (0, 675)\t1\n",
            "  (0, 493)\t2\n",
            "  (0, 176)\t2\n",
            "  (0, 373)\t1\n",
            "  (0, 119)\t1\n",
            "  (0, 469)\t1\n",
            "  (0, 749)\t1\n",
            "  (0, 211)\t1\n",
            "  (0, 769)\t1\n",
            "  (0, 139)\t1\n",
            "  (0, 643)\t1\n",
            "  (0, 421)\t1\n",
            "  (0, 24)\t1\n",
            "  (0, 327)\t1\n",
            "  (0, 365)\t1\n",
            "  (0, 307)\t1\n",
            "  (0, 519)\t1\n",
            "  (0, 401)\t1\n",
            "  (0, 587)\t1\n",
            "  (0, 777)\t1\n",
            "  (0, 461)\t1\n",
            "  (0, 263)\t1\n",
            "  :\t:\n",
            "  (0, 150)\t1\n",
            "  (0, 294)\t1\n",
            "  (0, 234)\t1\n",
            "  (0, 658)\t1\n",
            "  (0, 202)\t1\n",
            "  (0, 110)\t1\n",
            "  (0, 610)\t1\n",
            "  (0, 416)\t1\n",
            "  (0, 226)\t1\n",
            "  (0, 510)\t1\n",
            "  (0, 194)\t1\n",
            "  (0, 768)\t1\n",
            "  (0, 356)\t1\n",
            "  (0, 206)\t1\n",
            "  (0, 372)\t1\n",
            "  (0, 788)\t1\n",
            "  (0, 594)\t1\n",
            "  (0, 326)\t1\n",
            "  (0, 146)\t1\n",
            "  (0, 242)\t1\n",
            "  (0, 75)\t1\n",
            "  (0, 47)\t1\n",
            "  (0, 526)\t1\n",
            "  (0, 71)\t1\n",
            "  (0, 630)\t1\n",
            "[[1 1 1 1 1 1 1 1 1 1 1 1 1 1 1 1 1 1 1 1 1 1 1 1 1 1 1 1 1 1 1 1 1 1 1 1\n",
            "  1 1 1 1 1 1 1 1 1 1 1 1 1 1 1 1 1 1 1 1 1 1 1 1 1 1 1 1 1 1 1 1 1 1 1 1\n",
            "  1 1 1 1 1 1 1 1 1 1 1 1 1 1 1 1 1 1 1 1 1 1 1 1 1 1 1 1 1 1 1 1 1 1 1 1\n",
            "  1 1 1 1 1 1 1 1 1 1 1 1 1 1 1 1 1 1 1 1 1 1 1 1 1 1 1 1 1 1 1 1 1 1 1 1\n",
            "  1 1 1 1 1 1 1 1 1 1 1 1 1 1 1 1 1 1 1 1 1 1 1 1 1 1 1 1 1 1 1 1 2 1 1 1\n",
            "  1 1 1 1 1 1 1 1 1 1 1 1 1 1 1 1 1 1 1 1 1 1 1 1 1 1 1 1 1 1 1 1 1 1 1 1\n",
            "  1 1 1 1 1 1 1 1 1 1 1 1 1 1 1 1 1 1 1 1 1 1 1 1 1 1 1 1 1 1 1 1 1 1 1 1\n",
            "  1 1 1 1 1 1 1 1 1 1 1 1 1 1 1 1 1 1 1 1 1 1 1 1 1 1 1 1 1 1 1 1 1 1 1 1\n",
            "  1 1 1 1 1 1 1 1 1 1 1 1 1 1 1 1 1 1 1 1 1 1 1 1 1 1 1 1 1 1 1 1 1 1 1 1\n",
            "  1 1 1 1 1 1 1 1 1 1 1 1 1 1 1 1 1 1 1 1 1 1 1 1 1 1 1 1 1 1 1 1 1 1 1 1\n",
            "  1 1 1 1 1 1 1 1 1 1 1 1 1 1 1 1 1 1 1 1 1 1 1 1 1 1 1 1 1 1 1 1 1 1 1 1\n",
            "  1 1 1 1 1 1 1 1 1 1 1 1 1 1 1 1 1 1 1 1 1 1 1 1 1 1 1 1 1 1 1 1 1 1 1 1\n",
            "  1 1 1 1 1 1 1 1 1 1 1 1 1 1 1 1 1 1 1 1 1 1 1 1 1 1 1 1 1 1 1 1 1 1 1 1\n",
            "  1 1 1 1 1 1 1 1 1 1 1 1 1 1 1 1 1 1 1 1 1 1 1 1 1 2 2 1 1 1 1 1 1 1 1 1\n",
            "  1 1 1 1 1 1 1 1 1 1 1 1 1 1 1 1 1 1 1 1 1 1 1 1 1 1 1 1 1 1 1 1 1 1 1 1\n",
            "  1 1 1 1 1 1 1 1 1 1 1 1 1 1 1 1 1 1 1 1 1 1 1 1 1 1 1 1 1 1 1 1 1 1 1 1\n",
            "  1 1 1 1 1 1 1 1 1 1 1 1 1 1 1 1 1 1 1 1 1 1 1 1 1 1 1 1 1 1 1 1 1 1 1 1\n",
            "  1 1 1 1 1 1 1 1 1 1 1 1 1 1 1 1 1 1 1 1 1 1 1 1 1 1 1 1 1 1 1 1 1 1 1 1\n",
            "  1 1 1 1 1 1 1 1 1 1 1 1 1 1 1 1 1 1 1 1 1 1 1 1 1 1 1 1 1 1 1 1 1 1 1 1\n",
            "  1 1 1 2 1 1 1 1 1 1 1 1 1 1 1 1 1 1 2 1 1 1 1 1 1 1 1 1 1 1 1 1 1 1 1 1\n",
            "  1 1 1 1 1 1 1 1 1 1 1 1 1 1 1 1 1 1 1 1 1 1 1 1 1 1 1 1 1 1 1 1 1 1 1 1\n",
            "  1 1 1 1 1 1 1 1 1 1 1 1 1 1 1 1 1 1 1 1 1 1 1 1 1 1 1 1 1 1 1 1 1 1 1 1\n",
            "  1 1 1 1 1 1 1 1 1 1 1 1 1 1 1 1 1 1 1 1 1 1 1 1 1 1 1 1 1 1 1 1 1 1 1 1\n",
            "  1 1 1 1 1 1 1 1 1 1 1 1 1 1 1 1 1 1 1 1 1 1 1 1 1 1 1 1 1 1 1 1 1 1 1 1\n",
            "  1 1 1 1 1 1 1 1 1 1 1 1 1 1 1 1 1]]\n"
          ]
        }
      ]
    },
    {
      "cell_type": "code",
      "source": [
        "token_freq = nltk.FreqDist(sentences)\n",
        "token_freq"
      ],
      "metadata": {
        "colab": {
          "base_uri": "https://localhost:8080/"
        },
        "id": "cITjDqpc4BMH",
        "outputId": "59a361cf-1449-4780-d9cd-2fe6e43b5566"
      },
      "execution_count": 27,
      "outputs": [
        {
          "output_type": "execute_result",
          "data": {
            "text/plain": [
              "FreqDist({'Presiden Jokowi menginginkan pembangunan Kereta Cepat Jakarta-Bandung (KCJB) selesai dan siap beroperasi pada Juni 2023. Hal itu disampaikan ketika Jokowi mengunjungi Stasiun KCJB di Stasiun Tegalluar, Desa Tegalluar, Kecamatan Bojongsoang, Kabupaten Bandung, Jawa Barat. Saat ini, kata dia, secara keseluruhan progres pembangunan KCJB baru mencapai 88,8 persen. Belum final dan peluncuran nanti untuk operasional insya Allah kurang lebih nanti di bulan Juni 2023, katanya dijumpai, Rabu (13/10/2022). Baca juga: Jokowi Harap Kereta Cepat Dorong Pertumbuhan Ekonomi Jakarta hingga Kabupaten Bandung Jokowi menjelaskan progres pembangunan KCJB sempat terhambat oleh pandemi Covid-19, meskipun tidak terlalu signifikan. Namun, secara teknis, pembangunan lajur KCJB sempat mengalami hambatan ketika akan membangun terowongan di tunnel 2 dan tunnel 11. Memang ada masalah karena memang tanahnya yang sangat sulit dikendalikan tetapi Alhamdulillah sekarang sudah selesai, ungkapnya. Kereta cepat pertama di Asean Jokowi mengungkapkan, pembangunan KCJB merupakan yang pertama di ASEAN. Diharapkan, kereta cepat ini bisa membangun konektivitas atar negara dan wilayah yang ada di Indonesia. Baca juga: 11 Rumah Warga di Purwakarta Ambruk Terdampak Proyek Kereta Cepat Jakarta-Bandung Nantinya, kata dia, KCJB bisa disambungkan dengan pelabuhan, bandara, bahkan kereta cepat lain yang rencananya akan dibangun di wilayah lain. Bisa dihubungkan dengan Pelabuhan dan Bandaran, mungkin juga dengan kereta cepat seperti ini dan itu sudah menjadi gagasan besar di ASEAN agar konektivitas antar negara ASEAN ini bisa terhubung, pungkasnya.': 1})"
            ]
          },
          "metadata": {},
          "execution_count": 27
        }
      ]
    },
    {
      "cell_type": "code",
      "source": [
        "bigrams = nltk.bigrams(sentences)\n",
        "token_freq = nltk.FreqDist(bigrams)\n",
        "token_freq"
      ],
      "metadata": {
        "colab": {
          "base_uri": "https://localhost:8080/"
        },
        "id": "xWT9s9FX4BPb",
        "outputId": "143899bd-f24c-463b-885f-502b52206a26"
      },
      "execution_count": 42,
      "outputs": [
        {
          "output_type": "execute_result",
          "data": {
            "text/plain": [
              "FreqDist({})"
            ]
          },
          "metadata": {},
          "execution_count": 42
        }
      ]
    },
    {
      "cell_type": "code",
      "source": [
        "trigrams = nltk.bigrams(sentences)\n",
        "token_freq = nltk.FreqDist(trigrams)\n",
        "token_freq"
      ],
      "metadata": {
        "colab": {
          "base_uri": "https://localhost:8080/"
        },
        "id": "RsfwjHPODTnC",
        "outputId": "fed8d861-5eb5-49aa-fe40-3f4471f07d30"
      },
      "execution_count": 44,
      "outputs": [
        {
          "output_type": "execute_result",
          "data": {
            "text/plain": [
              "FreqDist({})"
            ]
          },
          "metadata": {},
          "execution_count": 44
        }
      ]
    },
    {
      "cell_type": "code",
      "source": [],
      "metadata": {
        "id": "Uaw9-7OeDTpl"
      },
      "execution_count": null,
      "outputs": []
    }
  ]
}